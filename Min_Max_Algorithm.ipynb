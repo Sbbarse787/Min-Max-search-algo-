{
  "nbformat": 4,
  "nbformat_minor": 0,
  "metadata": {
    "colab": {
      "name": "Min-Max-Algorithm",
      "provenance": [],
      "collapsed_sections": [],
      "authorship_tag": "ABX9TyN3q1cDcCaabl04zuEqZrUB",
      "include_colab_link": true
    },
    "kernelspec": {
      "name": "python3",
      "display_name": "Python 3"
    }
  },
  "cells": [
    {
      "cell_type": "markdown",
      "metadata": {
        "id": "view-in-github",
        "colab_type": "text"
      },
      "source": [
        "<a href=\"https://colab.research.google.com/github/Sbbarse787/Min-Max-search-algo-/blob/main/Min_Max_Algorithm.ipynb\" target=\"_parent\"><img src=\"https://colab.research.google.com/assets/colab-badge.svg\" alt=\"Open In Colab\"/></a>"
      ]
    },
    {
      "cell_type": "code",
      "metadata": {
        "id": "29EWw9RGB4iA",
        "outputId": "7a1e3141-d5dd-45e1-8ec5-ee256f7a08e9",
        "colab": {
          "base_uri": "https://localhost:8080/",
          "height": 35
        }
      },
      "source": [
        "# Executed By Saurabh Barse A-54 \n",
        "# maximum score that \n",
        "# maximizing player can get \n",
        "import math \n",
        "\n",
        "def minimax (curDepth, nodeIndex, \n",
        "\t\t\tmaxTurn, scores, \n",
        "\t\t\ttargetDepth): \n",
        "\n",
        "\t# base case : targetDepth reached \n",
        "\tif (curDepth == targetDepth): \n",
        "\t\treturn scores[nodeIndex] \n",
        "\t\n",
        "\tif (maxTurn): \n",
        "\t\treturn max(minimax(curDepth + 1, nodeIndex * 2, \n",
        "\t\t\t\t\tFalse, scores, targetDepth), \n",
        "\t\t\t\tminimax(curDepth + 1, nodeIndex * 2 + 1, \n",
        "\t\t\t\t\tFalse, scores, targetDepth)) \n",
        "\t\n",
        "\telse: \n",
        "\t\treturn min(minimax(curDepth + 1, nodeIndex * 2, \n",
        "\t\t\t\t\tTrue, scores, targetDepth), \n",
        "\t\t\t\tminimax(curDepth + 1, nodeIndex * 2 + 1, \n",
        "\t\t\t\t\tTrue, scores, targetDepth)) \n",
        "\t\n",
        "# Driver code \n",
        "scores = [3, 5, 2, 9, 12, 5, 23, 23] \n",
        "\n",
        "treeDepth = math.log(len(scores), 2) \n",
        "\n",
        "print(\"The optimal value is : \", end = \"\") \n",
        "print(minimax(0, 0, True, scores, treeDepth)) \n",
        "\n",
        "\n"
      ],
      "execution_count": 1,
      "outputs": [
        {
          "output_type": "stream",
          "text": [
            "The optimal value is : 12\n"
          ],
          "name": "stdout"
        }
      ]
    }
  ]
}